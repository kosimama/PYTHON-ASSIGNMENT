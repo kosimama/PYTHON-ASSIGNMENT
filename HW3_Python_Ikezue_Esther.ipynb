{
 "cells": [
  {
   "cell_type": "code",
   "execution_count": 5,
   "id": "04ef680a-0873-4313-a5fe-6b202aa95060",
   "metadata": {},
   "outputs": [
    {
     "name": "stdin",
     "output_type": "stream",
     "text": [
      "Enter text:  In the beginning was the word, the word was with God and the word was God\n"
     ]
    },
    {
     "name": "stdout",
     "output_type": "stream",
     "text": [
      "{'in': 1, 'the': 4, 'beginning': 1, 'was': 3, 'word,': 1, 'word': 2, 'with': 1, 'god': 2, 'and': 1}\n",
      "Most frequent word: the\n"
     ]
    }
   ],
   "source": [
    "# Task 1\n",
    "text = input(\"Enter text: \")\n",
    "text = text.lower()\n",
    "words = text.split()\n",
    "word_freq = {}\n",
    "for word in words:\n",
    "    if word in word_freq:\n",
    "        word_freq[word] += 1\n",
    "    else:\n",
    "        word_freq[word] = 1\n",
    "print(word_freq)\n",
    "max_word = max(word_freq, key=word_freq.get)\n",
    "print(f\"Most frequent word: {max_word}\")\n"
   ]
  },
  {
   "cell_type": "code",
   "execution_count": 7,
   "id": "a8ddebc4-5850-4ff7-a211-e71817082131",
   "metadata": {},
   "outputs": [
    {
     "name": "stdin",
     "output_type": "stream",
     "text": [
      "Enter item (or 'done' to finish):  chips\n"
     ]
    },
    {
     "name": "stdout",
     "output_type": "stream",
     "text": [
      "chips added to the shopping list.\n"
     ]
    },
    {
     "name": "stdin",
     "output_type": "stream",
     "text": [
      "Enter item (or 'done' to finish):  apple\n"
     ]
    },
    {
     "name": "stdout",
     "output_type": "stream",
     "text": [
      "apple added to the shopping list.\n"
     ]
    },
    {
     "name": "stdin",
     "output_type": "stream",
     "text": [
      "Enter item (or 'done' to finish):  banana\n"
     ]
    },
    {
     "name": "stdout",
     "output_type": "stream",
     "text": [
      "banana added to the shopping list.\n"
     ]
    },
    {
     "name": "stdin",
     "output_type": "stream",
     "text": [
      "Enter item (or 'done' to finish):  orange\n"
     ]
    },
    {
     "name": "stdout",
     "output_type": "stream",
     "text": [
      "orange added to the shopping list.\n"
     ]
    },
    {
     "name": "stdin",
     "output_type": "stream",
     "text": [
      "Enter item (or 'done' to finish):  grapes\n"
     ]
    },
    {
     "name": "stdout",
     "output_type": "stream",
     "text": [
      "grapes added to the shopping list.\n"
     ]
    },
    {
     "name": "stdin",
     "output_type": "stream",
     "text": [
      "Enter item (or 'done' to finish):  watermelon\n"
     ]
    },
    {
     "name": "stdout",
     "output_type": "stream",
     "text": [
      "watermelon added to the shopping list.\n"
     ]
    },
    {
     "name": "stdin",
     "output_type": "stream",
     "text": [
      "Enter item (or 'done' to finish):  pinenapple\n"
     ]
    },
    {
     "name": "stdout",
     "output_type": "stream",
     "text": [
      "Sorry, pinenapple is not available in the inventory.\n"
     ]
    },
    {
     "name": "stdin",
     "output_type": "stream",
     "text": [
      "Enter item (or 'done' to finish):  mango\n"
     ]
    },
    {
     "name": "stdout",
     "output_type": "stream",
     "text": [
      "mango added to the shopping list.\n"
     ]
    },
    {
     "name": "stdin",
     "output_type": "stream",
     "text": [
      "Enter item (or 'done' to finish):  kiwi\n"
     ]
    },
    {
     "name": "stdout",
     "output_type": "stream",
     "text": [
      "kiwi added to the shopping list.\n"
     ]
    },
    {
     "name": "stdin",
     "output_type": "stream",
     "text": [
      "Enter item (or 'done' to finish):  papaya\n"
     ]
    },
    {
     "name": "stdout",
     "output_type": "stream",
     "text": [
      "papaya added to the shopping list.\n"
     ]
    },
    {
     "name": "stdin",
     "output_type": "stream",
     "text": [
      "Enter item (or 'done' to finish):  strawberry\n"
     ]
    },
    {
     "name": "stdout",
     "output_type": "stream",
     "text": [
      "strawberry added to the shopping list.\n"
     ]
    },
    {
     "name": "stdin",
     "output_type": "stream",
     "text": [
      "Enter item (or 'done' to finish):  blueberry\n"
     ]
    },
    {
     "name": "stdout",
     "output_type": "stream",
     "text": [
      "blueberry added to the shopping list.\n"
     ]
    },
    {
     "name": "stdin",
     "output_type": "stream",
     "text": [
      "Enter item (or 'done' to finish):  peach\n"
     ]
    },
    {
     "name": "stdout",
     "output_type": "stream",
     "text": [
      "peach added to the shopping list.\n"
     ]
    },
    {
     "name": "stdin",
     "output_type": "stream",
     "text": [
      "Enter item (or 'done' to finish):  cherry\n"
     ]
    },
    {
     "name": "stdout",
     "output_type": "stream",
     "text": [
      "cherry added to the shopping list.\n"
     ]
    },
    {
     "name": "stdin",
     "output_type": "stream",
     "text": [
      "Enter item (or 'done' to finish):  broccoli\n"
     ]
    },
    {
     "name": "stdout",
     "output_type": "stream",
     "text": [
      "broccoli added to the shopping list.\n"
     ]
    },
    {
     "name": "stdin",
     "output_type": "stream",
     "text": [
      "Enter item (or 'done' to finish):  carrot\n"
     ]
    },
    {
     "name": "stdout",
     "output_type": "stream",
     "text": [
      "carrot added to the shopping list.\n"
     ]
    },
    {
     "name": "stdin",
     "output_type": "stream",
     "text": [
      "Enter item (or 'done' to finish):  spinach\n"
     ]
    },
    {
     "name": "stdout",
     "output_type": "stream",
     "text": [
      "spinach added to the shopping list.\n"
     ]
    },
    {
     "name": "stdin",
     "output_type": "stream",
     "text": [
      "Enter item (or 'done' to finish):  tomato\n"
     ]
    },
    {
     "name": "stdout",
     "output_type": "stream",
     "text": [
      "tomato added to the shopping list.\n"
     ]
    },
    {
     "name": "stdin",
     "output_type": "stream",
     "text": [
      "Enter item (or 'done' to finish):  potato\n"
     ]
    },
    {
     "name": "stdout",
     "output_type": "stream",
     "text": [
      "potato added to the shopping list.\n"
     ]
    },
    {
     "name": "stdin",
     "output_type": "stream",
     "text": [
      "Enter item (or 'done' to finish):  onion\n"
     ]
    },
    {
     "name": "stdout",
     "output_type": "stream",
     "text": [
      "onion added to the shopping list.\n"
     ]
    },
    {
     "name": "stdin",
     "output_type": "stream",
     "text": [
      "Enter item (or 'done' to finish):  garlic\n"
     ]
    },
    {
     "name": "stdout",
     "output_type": "stream",
     "text": [
      "garlic added to the shopping list.\n"
     ]
    },
    {
     "name": "stdin",
     "output_type": "stream",
     "text": [
      "Enter item (or 'done' to finish):  cabbage\n"
     ]
    },
    {
     "name": "stdout",
     "output_type": "stream",
     "text": [
      "cabbage added to the shopping list.\n"
     ]
    },
    {
     "name": "stdin",
     "output_type": "stream",
     "text": [
      "Enter item (or 'done' to finish):  lettuce\n"
     ]
    },
    {
     "name": "stdout",
     "output_type": "stream",
     "text": [
      "lettuce added to the shopping list.\n"
     ]
    },
    {
     "name": "stdin",
     "output_type": "stream",
     "text": [
      "Enter item (or 'done' to finish):  cauliflower\n"
     ]
    },
    {
     "name": "stdout",
     "output_type": "stream",
     "text": [
      "cauliflower added to the shopping list.\n"
     ]
    },
    {
     "name": "stdin",
     "output_type": "stream",
     "text": [
      "Enter item (or 'done' to finish):  cucumber\n"
     ]
    },
    {
     "name": "stdout",
     "output_type": "stream",
     "text": [
      "cucumber added to the shopping list.\n"
     ]
    },
    {
     "name": "stdin",
     "output_type": "stream",
     "text": [
      "Enter item (or 'done' to finish):  bell pepper\n"
     ]
    },
    {
     "name": "stdout",
     "output_type": "stream",
     "text": [
      "bell pepper added to the shopping list.\n"
     ]
    },
    {
     "name": "stdin",
     "output_type": "stream",
     "text": [
      "Enter item (or 'done' to finish):  milk\n"
     ]
    },
    {
     "name": "stdout",
     "output_type": "stream",
     "text": [
      "milk added to the shopping list.\n"
     ]
    },
    {
     "name": "stdin",
     "output_type": "stream",
     "text": [
      "Enter item (or 'done' to finish):  cheese\n"
     ]
    },
    {
     "name": "stdout",
     "output_type": "stream",
     "text": [
      "cheese added to the shopping list.\n"
     ]
    },
    {
     "name": "stdin",
     "output_type": "stream",
     "text": [
      "Enter item (or 'done' to finish):  yogurt\n"
     ]
    },
    {
     "name": "stdout",
     "output_type": "stream",
     "text": [
      "yogurt added to the shopping list.\n"
     ]
    },
    {
     "name": "stdin",
     "output_type": "stream",
     "text": [
      "Enter item (or 'done' to finish):  butter\n"
     ]
    },
    {
     "name": "stdout",
     "output_type": "stream",
     "text": [
      "butter added to the shopping list.\n"
     ]
    },
    {
     "name": "stdin",
     "output_type": "stream",
     "text": [
      "Enter item (or 'done' to finish):  eggs\n"
     ]
    },
    {
     "name": "stdout",
     "output_type": "stream",
     "text": [
      "eggs added to the shopping list.\n"
     ]
    },
    {
     "name": "stdin",
     "output_type": "stream",
     "text": [
      "Enter item (or 'done' to finish):  bread\n"
     ]
    },
    {
     "name": "stdout",
     "output_type": "stream",
     "text": [
      "bread added to the shopping list.\n"
     ]
    },
    {
     "name": "stdin",
     "output_type": "stream",
     "text": [
      "Enter item (or 'done' to finish):  rice\n"
     ]
    },
    {
     "name": "stdout",
     "output_type": "stream",
     "text": [
      "rice added to the shopping list.\n"
     ]
    },
    {
     "name": "stdin",
     "output_type": "stream",
     "text": [
      "Enter item (or 'done' to finish):  pasta\n"
     ]
    },
    {
     "name": "stdout",
     "output_type": "stream",
     "text": [
      "pasta added to the shopping list.\n"
     ]
    },
    {
     "name": "stdin",
     "output_type": "stream",
     "text": [
      "Enter item (or 'done' to finish):  flour\n"
     ]
    },
    {
     "name": "stdout",
     "output_type": "stream",
     "text": [
      "flour added to the shopping list.\n"
     ]
    },
    {
     "name": "stdin",
     "output_type": "stream",
     "text": [
      "Enter item (or 'done' to finish):  sugar\n"
     ]
    },
    {
     "name": "stdout",
     "output_type": "stream",
     "text": [
      "sugar added to the shopping list.\n"
     ]
    },
    {
     "name": "stdin",
     "output_type": "stream",
     "text": [
      "Enter item (or 'done' to finish):  salt\n"
     ]
    },
    {
     "name": "stdout",
     "output_type": "stream",
     "text": [
      "salt added to the shopping list.\n"
     ]
    },
    {
     "name": "stdin",
     "output_type": "stream",
     "text": [
      "Enter item (or 'done' to finish):  cereal\n"
     ]
    },
    {
     "name": "stdout",
     "output_type": "stream",
     "text": [
      "cereal added to the shopping list.\n"
     ]
    },
    {
     "name": "stdin",
     "output_type": "stream",
     "text": [
      "Enter item (or 'done' to finish):  oil\n"
     ]
    },
    {
     "name": "stdout",
     "output_type": "stream",
     "text": [
      "oil added to the shopping list.\n"
     ]
    },
    {
     "name": "stdin",
     "output_type": "stream",
     "text": [
      "Enter item (or 'done' to finish):  tea\n"
     ]
    },
    {
     "name": "stdout",
     "output_type": "stream",
     "text": [
      "tea added to the shopping list.\n"
     ]
    },
    {
     "name": "stdin",
     "output_type": "stream",
     "text": [
      "Enter item (or 'done' to finish):  coffee\n"
     ]
    },
    {
     "name": "stdout",
     "output_type": "stream",
     "text": [
      "coffee added to the shopping list.\n"
     ]
    },
    {
     "name": "stdin",
     "output_type": "stream",
     "text": [
      "Enter item (or 'done' to finish):  juice\n"
     ]
    },
    {
     "name": "stdout",
     "output_type": "stream",
     "text": [
      "juice added to the shopping list.\n"
     ]
    },
    {
     "name": "stdin",
     "output_type": "stream",
     "text": [
      "Enter item (or 'done' to finish):  soda\n"
     ]
    },
    {
     "name": "stdout",
     "output_type": "stream",
     "text": [
      "soda added to the shopping list.\n"
     ]
    },
    {
     "name": "stdin",
     "output_type": "stream",
     "text": [
      "Enter item (or 'done' to finish):  water bottle\n"
     ]
    },
    {
     "name": "stdout",
     "output_type": "stream",
     "text": [
      "water bottle added to the shopping list.\n"
     ]
    },
    {
     "name": "stdin",
     "output_type": "stream",
     "text": [
      "Enter item (or 'done' to finish):  cookies\n"
     ]
    },
    {
     "name": "stdout",
     "output_type": "stream",
     "text": [
      "cookies added to the shopping list.\n"
     ]
    },
    {
     "name": "stdin",
     "output_type": "stream",
     "text": [
      "Enter item (or 'done' to finish):  chips\n"
     ]
    },
    {
     "name": "stdout",
     "output_type": "stream",
     "text": [
      "chips added to the shopping list.\n"
     ]
    },
    {
     "name": "stdin",
     "output_type": "stream",
     "text": [
      "Enter item (or 'done' to finish):  chocolates\n"
     ]
    },
    {
     "name": "stdout",
     "output_type": "stream",
     "text": [
      "Sorry, chocolates is not available in the inventory.\n"
     ]
    },
    {
     "name": "stdin",
     "output_type": "stream",
     "text": [
      "Enter item (or 'done' to finish):  candy\n"
     ]
    },
    {
     "name": "stdout",
     "output_type": "stream",
     "text": [
      "candy added to the shopping list.\n"
     ]
    },
    {
     "name": "stdin",
     "output_type": "stream",
     "text": [
      "Enter item (or 'done' to finish):  toothpaste\n"
     ]
    },
    {
     "name": "stdout",
     "output_type": "stream",
     "text": [
      "toothpaste added to the shopping list.\n"
     ]
    },
    {
     "name": "stdin",
     "output_type": "stream",
     "text": [
      "Enter item (or 'done' to finish):  soap\n"
     ]
    },
    {
     "name": "stdout",
     "output_type": "stream",
     "text": [
      "soap added to the shopping list.\n"
     ]
    },
    {
     "name": "stdin",
     "output_type": "stream",
     "text": [
      "Enter item (or 'done' to finish):  shampoo\n"
     ]
    },
    {
     "name": "stdout",
     "output_type": "stream",
     "text": [
      "shampoo added to the shopping list.\n"
     ]
    },
    {
     "name": "stdin",
     "output_type": "stream",
     "text": [
      "Enter item (or 'done' to finish):  tissue\n"
     ]
    },
    {
     "name": "stdout",
     "output_type": "stream",
     "text": [
      "tissue added to the shopping list.\n"
     ]
    },
    {
     "name": "stdin",
     "output_type": "stream",
     "text": [
      "Enter item (or 'done' to finish):  detergents\n"
     ]
    },
    {
     "name": "stdout",
     "output_type": "stream",
     "text": [
      "Sorry, detergents is not available in the inventory.\n"
     ]
    },
    {
     "name": "stdin",
     "output_type": "stream",
     "text": [
      "Enter item (or 'done' to finish):  cleaner\n"
     ]
    },
    {
     "name": "stdout",
     "output_type": "stream",
     "text": [
      "cleaner added to the shopping list.\n"
     ]
    },
    {
     "name": "stdin",
     "output_type": "stream",
     "text": [
      "Enter item (or 'done' to finish):  toilet paper\n"
     ]
    },
    {
     "name": "stdout",
     "output_type": "stream",
     "text": [
      "toilet paper added to the shopping list.\n"
     ]
    },
    {
     "name": "stdin",
     "output_type": "stream",
     "text": [
      "Enter item (or 'done' to finish):  dish soap\n"
     ]
    },
    {
     "name": "stdout",
     "output_type": "stream",
     "text": [
      "dish soap added to the shopping list.\n"
     ]
    },
    {
     "name": "stdin",
     "output_type": "stream",
     "text": [
      "Enter item (or 'done' to finish):  aluminium foil\n"
     ]
    },
    {
     "name": "stdout",
     "output_type": "stream",
     "text": [
      "Sorry, aluminium foil is not available in the inventory.\n"
     ]
    },
    {
     "name": "stdin",
     "output_type": "stream",
     "text": [
      "Enter item (or 'done' to finish):  plastic wraps\n"
     ]
    },
    {
     "name": "stdout",
     "output_type": "stream",
     "text": [
      "Sorry, plastic wraps is not available in the inventory.\n"
     ]
    },
    {
     "name": "stdin",
     "output_type": "stream",
     "text": [
      "Enter item (or 'done' to finish):  \n"
     ]
    },
    {
     "name": "stdout",
     "output_type": "stream",
     "text": [
      "\n",
      "Your sorted shopping list:\n",
      "apple\n",
      "banana\n",
      "bell pepper\n",
      "blueberry\n",
      "bread\n",
      "broccoli\n",
      "butter\n",
      "cabbage\n",
      "candy\n",
      "carrot\n",
      "cauliflower\n",
      "cereal\n",
      "cheese\n",
      "cherry\n",
      "chips\n",
      "chips\n",
      "cleaner\n",
      "coffee\n",
      "cookies\n",
      "cucumber\n",
      "dish soap\n",
      "eggs\n",
      "flour\n",
      "garlic\n",
      "grapes\n",
      "juice\n",
      "kiwi\n",
      "lettuce\n",
      "mango\n",
      "milk\n",
      "oil\n",
      "onion\n",
      "orange\n",
      "papaya\n",
      "pasta\n",
      "peach\n",
      "potato\n",
      "rice\n",
      "salt\n",
      "shampoo\n",
      "soap\n",
      "soda\n",
      "spinach\n",
      "strawberry\n",
      "sugar\n",
      "tea\n",
      "tissue\n",
      "toilet paper\n",
      "tomato\n",
      "toothpaste\n",
      "water bottle\n",
      "watermelon\n",
      "yogurt\n"
     ]
    }
   ],
   "source": [
    "# Task 2\n",
    "inventory = {\n",
    "    'apple': 30, 'banana': 50, 'orange': 40, 'grapes': 25, 'watermelon': 10, 'pineapple': 15,\n",
    "    'mango': 20, 'kiwi': 18, 'papaya': 12, 'strawberry': 22, 'blueberry': 14, 'peach': 16,\n",
    "    'cherry': 9, 'broccoli': 35, 'carrot': 60, 'spinach': 45, 'tomato': 80, 'potato': 100,\n",
    "    'onion': 90, 'garlic': 50, 'cabbage': 30, 'lettuce': 28, 'cauliflower': 22, 'cucumber': 40,\n",
    "    'bell pepper': 34, 'milk': 55, 'cheese': 20, 'yogurt': 25, 'butter': 18, 'eggs': 70,\n",
    "    'bread': 65, 'rice': 75, 'pasta': 40, 'flour': 60, 'sugar': 50, 'salt': 45, 'cereal': 38,\n",
    "    'oil': 30, 'tea': 40, 'coffee': 35, 'juice': 42, 'soda': 50, 'water bottle': 100, 'cookies': 48,\n",
    "    'chips': 55, 'chocolate': 33, 'candy': 27, 'toothpaste': 25, 'soap': 30, 'shampoo': 20, 'tissue': 40,\n",
    "    'detergent': 35, 'cleaner': 22, 'toilet paper': 60, 'dish soap': 18, 'aluminum foil': 15, 'plastic wrap': 17\n",
    "}\n",
    "shopping_list = []\n",
    "while True:\n",
    "    item = input(\"Enter item (or 'done' to finish): \").lower()\n",
    "    if item == 'done' or item == '':\n",
    "        break\n",
    "    if item in inventory:\n",
    "        shopping_list.append(item)\n",
    "        print(f\"{item} added to the shopping list.\")\n",
    "    else:\n",
    "        print(f\"Sorry, {item} is not available in the inventory.\")\n",
    "shopping_list.sort()\n",
    "print(\"\\nYour sorted shopping list:\")\n",
    "for item in shopping_list:\n",
    "    print(item)"
   ]
  },
  {
   "cell_type": "code",
   "execution_count": 9,
   "id": "9ccbbb57-1777-4710-aa78-b37bc67e6657",
   "metadata": {},
   "outputs": [
    {
     "name": "stdout",
     "output_type": "stream",
     "text": [
      "Alphabetical order (A -> Z):\n",
      "Chinese: 21-06-2022\n",
      "Economics: 18-06-2022\n",
      "English: 25-06-2022\n",
      "Japanese: 21-06-2022\n",
      "Korean: 21-06-2022\n",
      "Programming in Python: 27-06-2022\n",
      "Regional Studies: 28-07-2022\n",
      "\n",
      "Reversed alphabetical order (Z -> A):\n",
      "Regional Studies: 28-07-2022\n",
      "Programming in Python: 27-06-2022\n",
      "Korean: 21-06-2022\n",
      "Japanese: 21-06-2022\n",
      "English: 25-06-2022\n",
      "Economics: 18-06-2022\n",
      "Chinese: 21-06-2022\n",
      "\n",
      "Chronological order (earliest to latest):\n",
      "Economics: 18-06-2022\n",
      "Japanese: 21-06-2022\n",
      "Korean: 21-06-2022\n",
      "Chinese: 21-06-2022\n",
      "English: 25-06-2022\n",
      "Programming in Python: 27-06-2022\n",
      "Regional Studies: 28-07-2022\n",
      "\n",
      "Chronological order (latest to earliest):\n",
      "Regional Studies: 28-07-2022\n",
      "Programming in Python: 27-06-2022\n",
      "English: 25-06-2022\n",
      "Chinese: 21-06-2022\n",
      "Korean: 21-06-2022\n",
      "Japanese: 21-06-2022\n",
      "Economics: 18-06-2022\n",
      "\n",
      "Earliest exam: Economics on 18-06-2022\n",
      "Latest exam: Regional Studies on 28-07-2022\n",
      "\n",
      "Exams by date:\n",
      "18-06-2022\n",
      "Economics\n",
      "21-06-2022\n",
      "Chinese\n",
      "Japanese\n",
      "Korean\n",
      "25-06-2022\n",
      "English\n",
      "27-06-2022\n",
      "Programming in Python\n",
      "28-07-2022\n",
      "Regional Studies\n"
     ]
    }
   ],
   "source": [
    "# Task 3\n",
    "exam_dates = {'Economics': '18-06-2022', 'Japanese': '21-06-2022', 'Korean': '21-06-2022', 'Chinese': '21-06-2022', 'English': '25-06-2022', 'Programming in Python': '27-06-2022', 'Regional Studies': '28-07-2022'}\n",
    "\n",
    "print(\"Alphabetical order (A -> Z):\")\n",
    "for course in sorted(exam_dates.keys()):\n",
    "    print(f\"{course}: {exam_dates[course]}\")\n",
    "\n",
    "print(\"\\nReversed alphabetical order (Z -> A):\")\n",
    "for course in sorted(exam_dates.keys(), reverse=True):\n",
    "    print(f\"{course}: {exam_dates[course]}\")\n",
    "\n",
    "from datetime import datetime\n",
    "sorted_by_date = sorted(exam_dates.items(), key=lambda x: datetime.strptime(x[1], '%d-%m-%Y'))\n",
    "print(\"\\nChronological order (earliest to latest):\")\n",
    "for course, date in sorted_by_date:\n",
    "    print(f\"{course}: {date}\")\n",
    "\n",
    "print(\"\\nChronological order (latest to earliest):\")\n",
    "for course, date in sorted_by_date[::-1]:\n",
    "    print(f\"{course}: {date}\")\n",
    "\n",
    "earliest = sorted_by_date[0]\n",
    "print(f\"\\nEarliest exam: {earliest[0]} on {earliest[1]}\")\n",
    "latest = sorted_by_date[-1]\n",
    "print(f\"Latest exam: {latest[0]} on {latest[1]}\")\n",
    "\n",
    "print(\"\\nExams by date:\")\n",
    "dates = {}\n",
    "for course, date in exam_dates.items():\n",
    "    if date not in dates:\n",
    "        dates[date] = []\n",
    "    dates[date].append(course)\n",
    "for date in sorted(dates.keys(), key=lambda x: datetime.strptime(x, '%d-%m-%Y')):\n",
    "    print(date)\n",
    "    for course in sorted(dates[date]):\n",
    "        print(course)"
   ]
  },
  {
   "cell_type": "code",
   "execution_count": 11,
   "id": "ef2eccd9-4aa5-4f11-8f47-6393b5a2a327",
   "metadata": {},
   "outputs": [
    {
     "name": "stdin",
     "output_type": "stream",
     "text": [
      "Enter year:  1994\n",
      "Enter month:  5\n",
      "Enter day:  19\n"
     ]
    },
    {
     "name": "stdout",
     "output_type": "stream",
     "text": [
      "True\n"
     ]
    }
   ],
   "source": [
    "year = int(input(\"Enter year: \"))\n",
    "month = int(input(\"Enter month: \"))\n",
    "day = int(input(\"Enter day: \"))\n",
    "\n",
    "if month < 1 or month > 12:\n",
    "    print(False)\n",
    "else:\n",
    "    if month in [4, 6, 9, 11]:\n",
    "        max_days = 30\n",
    "    elif month == 2:\n",
    "        if (year % 4 == 0 and year % 100 != 0) or (year % 400 == 0):\n",
    "            max_days = 29\n",
    "        else:\n",
    "            max_days = 28\n",
    "    else:\n",
    "        max_days = 31\n",
    "    if day < 1 or day > max_days:\n",
    "        print(False)\n",
    "    else:\n",
    "        print(True)"
   ]
  },
  {
   "cell_type": "code",
   "execution_count": 13,
   "id": "f22480b5-e45a-45de-8961-94e95185344e",
   "metadata": {},
   "outputs": [
    {
     "name": "stdout",
     "output_type": "stream",
     "text": [
      "t&F6^VrK$VT\n"
     ]
    }
   ],
   "source": [
    "import random\n",
    "import string\n",
    "\n",
    "length = random.randint(8, 12)\n",
    "uppercase = random.choice(string.ascii_uppercase)\n",
    "lowercase = random.choice(string.ascii_lowercase)\n",
    "digit = random.choice(string.digits)\n",
    "special = random.choice(\":~!@#$%^&*()_+\")\n",
    "all_chars = string.ascii_letters + string.digits + \":~!@#$%^&*()_+\"\n",
    "remaining_length = length - 4\n",
    "remaining_chars = ''.join(random.choice(all_chars) for _ in range(remaining_length))\n",
    "captcha = uppercase + lowercase + digit + special + remaining_chars\n",
    "captcha = ''.join(random.sample(captcha, len(captcha)))\n",
    "print(captcha)"
   ]
  },
  {
   "cell_type": "code",
   "execution_count": null,
   "id": "8a6535cc-9a63-43b5-aeee-7a19f5942bae",
   "metadata": {},
   "outputs": [],
   "source": []
  }
 ],
 "metadata": {
  "kernelspec": {
   "display_name": "Python [conda env:base] *",
   "language": "python",
   "name": "conda-base-py"
  },
  "language_info": {
   "codemirror_mode": {
    "name": "ipython",
    "version": 3
   },
   "file_extension": ".py",
   "mimetype": "text/x-python",
   "name": "python",
   "nbconvert_exporter": "python",
   "pygments_lexer": "ipython3",
   "version": "3.12.7"
  }
 },
 "nbformat": 4,
 "nbformat_minor": 5
}
