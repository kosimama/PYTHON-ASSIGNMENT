{
 "cells": [
  {
   "cell_type": "markdown",
   "id": "dd4fbcf2-79c0-4794-a136-031fc8feebbd",
   "metadata": {},
   "source": [
    "# Task1\n"
   ]
  },
  {
   "cell_type": "code",
   "execution_count": 8,
   "id": "b9b8782e-434c-41c2-87cb-f2ac61932742",
   "metadata": {},
   "outputs": [
    {
     "name": "stdin",
     "output_type": "stream",
     "text": [
      "Player 1?  paper\n",
      "Player 2?  rock\n"
     ]
    },
    {
     "name": "stdout",
     "output_type": "stream",
     "text": [
      "Player 1 wins.\n"
     ]
    }
   ],
   "source": [
    "valid_choices = [\"rock\", \"paper\", \"scissors\"]\n",
    "\n",
    "player1 = input(\"Player 1? \").strip().lower()\n",
    "player2 = input(\"Player 2? \").strip().lower()\n",
    "\n",
    "if player1 not in valid_choices or player2 not in valid_choices:\n",
    "    print(\"This input is not valid for our game!\")\n",
    "elif player1 == player2:\n",
    "    print(\"It's a tie.\")\n",
    "elif (player1 == \"rock\" and player2 == \"scissors\") or \\\n",
    "     (player1 == \"scissors\" and player2 == \"paper\") or \\\n",
    "     (player1 == \"paper\" and player2 == \"rock\"):\n",
    "    print(\"Player 1 wins.\")\n",
    "else:\n",
    "    print(\"Player 2 wins.\")\n"
   ]
  },
  {
   "cell_type": "markdown",
   "id": "77dcb35b-f89a-405c-a27f-698ea6721d35",
   "metadata": {},
   "source": [
    "# Task 2\n"
   ]
  },
  {
   "cell_type": "code",
   "execution_count": 16,
   "id": "9b3d400d-73eb-4286-93bf-be9a3f508cca",
   "metadata": {},
   "outputs": [
    {
     "name": "stdin",
     "output_type": "stream",
     "text": [
      "Enter p:  10.2\n",
      "Enter q:  15.0\n"
     ]
    },
    {
     "name": "stdout",
     "output_type": "stream",
     "text": [
      "The total area is 329.906\n"
     ]
    }
   ],
   "source": [
    "pi = 3.145\n",
    "\n",
    "\n",
    "\n",
    "\n",
    "p = float(input(\"Enter p: \"))\n",
    "q = float(input(\"Enter q: \"))\n",
    "\n",
    "\n",
    "area_1_3 = (pi * (q / 2) ** 2)  \n",
    "area_2 = p * q  \n",
    "\n",
    "total_area = area_1_3 + area_2\n",
    "\n",
    "\n",
    "print(f\"The total area is {total_area:.3f}\")\n"
   ]
  },
  {
   "cell_type": "markdown",
   "id": "15c9ec8a-ea04-460a-a483-660c5356e658",
   "metadata": {},
   "source": [
    "# Task 3\n"
   ]
  },
  {
   "cell_type": "code",
   "execution_count": 18,
   "id": "2ec0b8dc-bb3a-4af0-a2db-6522e162a919",
   "metadata": {},
   "outputs": [
    {
     "name": "stdin",
     "output_type": "stream",
     "text": [
      "Enter credit card number:  4123456789123456\n"
     ]
    },
    {
     "name": "stdout",
     "output_type": "stream",
     "text": [
      "Valid\n"
     ]
    }
   ],
   "source": [
    "import re\n",
    "\n",
    "def is_valid_credit_card(card_number):\n",
    "    \n",
    "    pattern = r\"^[4-6]\\d{3}(-?\\d{4}){3}$\"\n",
    "    \n",
    "\n",
    "    if not re.fullmatch(pattern, card_number):\n",
    "        return \"Invalid\"\n",
    "    \n",
    "    \n",
    "    card_number = card_number.replace(\"-\", \"\")\n",
    "    \n",
    "    \n",
    "    for i in range(len(card_number) - 3):\n",
    "        if card_number[i] * 4 == card_number[i:i+4]:\n",
    "            return \"Invalid\"\n",
    "    \n",
    "    return \"Valid\"\n",
    "\n",
    "\n",
    "card_number = input(\"Enter credit card number: \")\n",
    "print(is_valid_credit_card(card_number))\n"
   ]
  },
  {
   "cell_type": "markdown",
   "id": "8c270f39-69e0-4108-be19-21433e671566",
   "metadata": {},
   "source": []
  },
  {
   "cell_type": "markdown",
   "id": "232e4eaf-0962-4d84-b8f8-9845a967c565",
   "metadata": {},
   "source": [
    "# Task 4\n",
    "\n",
    "\n"
   ]
  },
  {
   "cell_type": "code",
   "execution_count": 20,
   "id": "efa1ff4e-efeb-4e2f-ab88-c6d3d7cc886f",
   "metadata": {},
   "outputs": [
    {
     "name": "stdout",
     "output_type": "stream",
     "text": [
      "{'a': [1, 3], 'b': [2, 4]}\n"
     ]
    }
   ],
   "source": [
    "def group_tuples(pairs):\n",
    "    grouped_dict = {}\n",
    "    for key, value in pairs:\n",
    "        if key not in grouped_dict:\n",
    "            grouped_dict[key] = []\n",
    "        grouped_dict[key].append(value)\n",
    "    return grouped_dict\n",
    "\n",
    "\n",
    "input_list = [(\"a\", 1), (\"b\", 2), (\"a\", 3), (\"b\", 4)]\n",
    "\n",
    "print(group_tuples(input_list))\n"
   ]
  },
  {
   "cell_type": "markdown",
   "id": "0d7a46a4-be2d-4b44-a384-0bedec1cd325",
   "metadata": {},
   "source": []
  },
  {
   "cell_type": "markdown",
   "id": "05e765c6-1ee9-46f1-aa0d-6af1e94b4130",
   "metadata": {},
   "source": [
    "# Task 5"
   ]
  },
  {
   "cell_type": "code",
   "execution_count": 24,
   "id": "97e6401b-f904-45a1-b741-1c1e80c68361",
   "metadata": {},
   "outputs": [
    {
     "name": "stdout",
     "output_type": "stream",
     "text": [
      "[1, 2, 3, 4, 5, 6, 7]\n"
     ]
    }
   ],
   "source": [
    "def flatten_list(nested_list):\n",
    "    flat_list = []\n",
    "    for item in nested_list:\n",
    "        if isinstance(item, list):\n",
    "            flat_list.extend(flatten_list(item))  \n",
    "        else:\n",
    "            flat_list.append(item)\n",
    "    return flat_list\n",
    "    \n",
    "nested_list = [[1, 2, [3, 4]], [5, 6], 7]\n",
    "\n",
    "print(flatten_list(nested_list))\n"
   ]
  },
  {
   "cell_type": "code",
   "execution_count": null,
   "id": "468ca668-442c-45d6-825e-8f45793900b3",
   "metadata": {},
   "outputs": [],
   "source": []
  },
  {
   "cell_type": "code",
   "execution_count": null,
   "id": "e3f919ec-38fd-4119-ac45-3fc9d59a9619",
   "metadata": {},
   "outputs": [],
   "source": []
  },
  {
   "cell_type": "code",
   "execution_count": null,
   "id": "8db88d00-13b8-4e4b-a0fb-0e09258b4440",
   "metadata": {},
   "outputs": [],
   "source": []
  },
  {
   "cell_type": "code",
   "execution_count": null,
   "id": "ad2e2771-711f-4a0c-bfc1-d3fa2e91e704",
   "metadata": {},
   "outputs": [],
   "source": []
  },
  {
   "cell_type": "code",
   "execution_count": null,
   "id": "a2da6a80-ade7-4e7f-abd6-91fa6ffffc3f",
   "metadata": {},
   "outputs": [],
   "source": []
  },
  {
   "cell_type": "code",
   "execution_count": null,
   "id": "fcd7d2b5-716c-4cd5-9dd6-b22d1fe15786",
   "metadata": {},
   "outputs": [],
   "source": []
  },
  {
   "cell_type": "code",
   "execution_count": null,
   "id": "d2d8f199-a932-4770-bb85-54e524ef55ba",
   "metadata": {},
   "outputs": [],
   "source": []
  },
  {
   "cell_type": "code",
   "execution_count": null,
   "id": "c6ccc4a5-8997-4b0a-a228-841126caa079",
   "metadata": {},
   "outputs": [],
   "source": []
  },
  {
   "cell_type": "code",
   "execution_count": null,
   "id": "803960f4-f050-4dba-ae36-480dd99a7919",
   "metadata": {},
   "outputs": [],
   "source": []
  },
  {
   "cell_type": "code",
   "execution_count": null,
   "id": "57980ddf-bf76-4750-8288-887033914fd5",
   "metadata": {},
   "outputs": [],
   "source": []
  },
  {
   "cell_type": "code",
   "execution_count": null,
   "id": "2ec59a29-2fe5-4f6d-840a-e597e0da112d",
   "metadata": {},
   "outputs": [],
   "source": []
  },
  {
   "cell_type": "code",
   "execution_count": null,
   "id": "e1d17c24-13c0-4be2-a040-82939908b87a",
   "metadata": {},
   "outputs": [],
   "source": []
  }
 ],
 "metadata": {
  "kernelspec": {
   "display_name": "Python [conda env:base] *",
   "language": "python",
   "name": "conda-base-py"
  },
  "language_info": {
   "codemirror_mode": {
    "name": "ipython",
    "version": 3
   },
   "file_extension": ".py",
   "mimetype": "text/x-python",
   "name": "python",
   "nbconvert_exporter": "python",
   "pygments_lexer": "ipython3",
   "version": "3.12.7"
  }
 },
 "nbformat": 4,
 "nbformat_minor": 5
}
